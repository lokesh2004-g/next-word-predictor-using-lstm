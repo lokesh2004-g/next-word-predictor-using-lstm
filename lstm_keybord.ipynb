{
  "nbformat": 4,
  "nbformat_minor": 0,
  "metadata": {
    "colab": {
      "provenance": [],
      "gpuType": "T4",
      "mount_file_id": "18nH-xrFXH1kEDCnQYZlNCO1rQLtcQnwT",
      "authorship_tag": "ABX9TyO8Boh4+4fzSr9vcGm91BcF",
      "include_colab_link": true
    },
    "kernelspec": {
      "name": "python3",
      "display_name": "Python 3"
    },
    "language_info": {
      "name": "python"
    },
    "accelerator": "GPU"
  },
  "cells": [
    {
      "cell_type": "markdown",
      "metadata": {
        "id": "view-in-github",
        "colab_type": "text"
      },
      "source": [
        "<a href=\"https://colab.research.google.com/github/lokesh2004-g/next-word-predictor-using-lstm/blob/main/lstm_keybord.ipynb\" target=\"_parent\"><img src=\"https://colab.research.google.com/assets/colab-badge.svg\" alt=\"Open In Colab\"/></a>"
      ]
    },
    {
      "cell_type": "code",
      "source": [
        "import tensorflow as tf"
      ],
      "metadata": {
        "id": "eindBMiPZJft"
      },
      "execution_count": 1,
      "outputs": []
    },
    {
      "cell_type": "code",
      "execution_count": 2,
      "metadata": {
        "colab": {
          "base_uri": "https://localhost:8080/"
        },
        "id": "985brvF6Q_iQ",
        "outputId": "f69925a4-e852-4262-c97d-f85bbdeb0149"
      },
      "outputs": [
        {
          "output_type": "stream",
          "name": "stdout",
          "text": [
            "Using Colab cache for faster access to the 'hinglish-top-dataset' dataset.\n",
            "Path to dataset files: /kaggle/input/hinglish-top-dataset\n"
          ]
        }
      ],
      "source": [
        "import kagglehub\n",
        "\n",
        "# Download latest version\n",
        "path = kagglehub.dataset_download(\"nexuswho/hinglish-top-dataset\")\n",
        "\n",
        "print(\"Path to dataset files:\", path)"
      ]
    },
    {
      "cell_type": "code",
      "source": [
        "import pandas as pd\n"
      ],
      "metadata": {
        "id": "9iNJE0yIUqbL"
      },
      "execution_count": 3,
      "outputs": []
    },
    {
      "cell_type": "code",
      "source": [
        "df=pd.read_csv(\"/kaggle/input/hinglish-top-dataset/Human Annotated Data/test.tsv\",sep=\"\\t\")"
      ],
      "metadata": {
        "id": "HI2Vb0YcUvZL"
      },
      "execution_count": 4,
      "outputs": []
    },
    {
      "cell_type": "code",
      "source": [
        "df.head(  )"
      ],
      "metadata": {
        "colab": {
          "base_uri": "https://localhost:8080/",
          "height": 380
        },
        "id": "975hqESuVSOj",
        "outputId": "80967213-d504-4db4-cffc-9ac44f475912"
      },
      "execution_count": 5,
      "outputs": [
        {
          "output_type": "execute_result",
          "data": {
            "text/plain": [
              "                                            en_query  \\\n",
              "0                                   Pause my timer .   \n",
              "1                          Is it raining in Hawaii ?   \n",
              "2  Set a reminder for me to wake up at 630 am tom...   \n",
              "3                                 Please pause timer   \n",
              "4        play the first album for killswitch engaged   \n",
              "\n",
              "                                            cs_query  \\\n",
              "0                                 mere timer ko roko   \n",
              "1                 Kya hawaii me raining ho rahi hai?   \n",
              "2  Mere liye reminder set karo to wake up at 6:30...   \n",
              "3                              Please timer ko rokey   \n",
              "4      Killswitch engaged ka pehla album play kariye   \n",
              "\n",
              "                                            en_parse  \\\n",
              "0  [IN:PAUSE_TIMER Pause my [SL:METHOD_TIMER time...   \n",
              "1  [IN:GET_WEATHER Is it [SL:WEATHER_ATTRIBUTE ra...   \n",
              "2  [IN:CREATE_REMINDER Set a reminder for [SL:PER...   \n",
              "3  [IN:PAUSE_TIMER Please pause [SL:METHOD_TIMER ...   \n",
              "4  [IN:PLAY_MUSIC play the first [SL:MUSIC_TYPE a...   \n",
              "\n",
              "                                            cs_parse    domain  \n",
              "0  [IN:PAUSE_TIMER mere [SL:METHOD_TIMER timer ] ...     timer  \n",
              "1  [IN:GET_WEATHER Kya [SL:LOCATION hawaii ] me [...   weather  \n",
              "2  [IN:CREATE_REMINDER [SL:PERSON_REMINDED Mere ]...  reminder  \n",
              "3  [IN:PAUSE_TIMER Please [SL:METHOD_TIMER timer ...     timer  \n",
              "4  [IN:PLAY_MUSIC Killswitch engaged ka pehla [SL...     music  "
            ],
            "text/html": [
              "\n",
              "  <div id=\"df-042b6d33-0af4-4795-aae2-349d384a38b9\" class=\"colab-df-container\">\n",
              "    <div>\n",
              "<style scoped>\n",
              "    .dataframe tbody tr th:only-of-type {\n",
              "        vertical-align: middle;\n",
              "    }\n",
              "\n",
              "    .dataframe tbody tr th {\n",
              "        vertical-align: top;\n",
              "    }\n",
              "\n",
              "    .dataframe thead th {\n",
              "        text-align: right;\n",
              "    }\n",
              "</style>\n",
              "<table border=\"1\" class=\"dataframe\">\n",
              "  <thead>\n",
              "    <tr style=\"text-align: right;\">\n",
              "      <th></th>\n",
              "      <th>en_query</th>\n",
              "      <th>cs_query</th>\n",
              "      <th>en_parse</th>\n",
              "      <th>cs_parse</th>\n",
              "      <th>domain</th>\n",
              "    </tr>\n",
              "  </thead>\n",
              "  <tbody>\n",
              "    <tr>\n",
              "      <th>0</th>\n",
              "      <td>Pause my timer .</td>\n",
              "      <td>mere timer ko roko</td>\n",
              "      <td>[IN:PAUSE_TIMER Pause my [SL:METHOD_TIMER time...</td>\n",
              "      <td>[IN:PAUSE_TIMER mere [SL:METHOD_TIMER timer ] ...</td>\n",
              "      <td>timer</td>\n",
              "    </tr>\n",
              "    <tr>\n",
              "      <th>1</th>\n",
              "      <td>Is it raining in Hawaii ?</td>\n",
              "      <td>Kya hawaii me raining ho rahi hai?</td>\n",
              "      <td>[IN:GET_WEATHER Is it [SL:WEATHER_ATTRIBUTE ra...</td>\n",
              "      <td>[IN:GET_WEATHER Kya [SL:LOCATION hawaii ] me [...</td>\n",
              "      <td>weather</td>\n",
              "    </tr>\n",
              "    <tr>\n",
              "      <th>2</th>\n",
              "      <td>Set a reminder for me to wake up at 630 am tom...</td>\n",
              "      <td>Mere liye reminder set karo to wake up at 6:30...</td>\n",
              "      <td>[IN:CREATE_REMINDER Set a reminder for [SL:PER...</td>\n",
              "      <td>[IN:CREATE_REMINDER [SL:PERSON_REMINDED Mere ]...</td>\n",
              "      <td>reminder</td>\n",
              "    </tr>\n",
              "    <tr>\n",
              "      <th>3</th>\n",
              "      <td>Please pause timer</td>\n",
              "      <td>Please timer ko rokey</td>\n",
              "      <td>[IN:PAUSE_TIMER Please pause [SL:METHOD_TIMER ...</td>\n",
              "      <td>[IN:PAUSE_TIMER Please [SL:METHOD_TIMER timer ...</td>\n",
              "      <td>timer</td>\n",
              "    </tr>\n",
              "    <tr>\n",
              "      <th>4</th>\n",
              "      <td>play the first album for killswitch engaged</td>\n",
              "      <td>Killswitch engaged ka pehla album play kariye</td>\n",
              "      <td>[IN:PLAY_MUSIC play the first [SL:MUSIC_TYPE a...</td>\n",
              "      <td>[IN:PLAY_MUSIC Killswitch engaged ka pehla [SL...</td>\n",
              "      <td>music</td>\n",
              "    </tr>\n",
              "  </tbody>\n",
              "</table>\n",
              "</div>\n",
              "    <div class=\"colab-df-buttons\">\n",
              "\n",
              "  <div class=\"colab-df-container\">\n",
              "    <button class=\"colab-df-convert\" onclick=\"convertToInteractive('df-042b6d33-0af4-4795-aae2-349d384a38b9')\"\n",
              "            title=\"Convert this dataframe to an interactive table.\"\n",
              "            style=\"display:none;\">\n",
              "\n",
              "  <svg xmlns=\"http://www.w3.org/2000/svg\" height=\"24px\" viewBox=\"0 -960 960 960\">\n",
              "    <path d=\"M120-120v-720h720v720H120Zm60-500h600v-160H180v160Zm220 220h160v-160H400v160Zm0 220h160v-160H400v160ZM180-400h160v-160H180v160Zm440 0h160v-160H620v160ZM180-180h160v-160H180v160Zm440 0h160v-160H620v160Z\"/>\n",
              "  </svg>\n",
              "    </button>\n",
              "\n",
              "  <style>\n",
              "    .colab-df-container {\n",
              "      display:flex;\n",
              "      gap: 12px;\n",
              "    }\n",
              "\n",
              "    .colab-df-convert {\n",
              "      background-color: #E8F0FE;\n",
              "      border: none;\n",
              "      border-radius: 50%;\n",
              "      cursor: pointer;\n",
              "      display: none;\n",
              "      fill: #1967D2;\n",
              "      height: 32px;\n",
              "      padding: 0 0 0 0;\n",
              "      width: 32px;\n",
              "    }\n",
              "\n",
              "    .colab-df-convert:hover {\n",
              "      background-color: #E2EBFA;\n",
              "      box-shadow: 0px 1px 2px rgba(60, 64, 67, 0.3), 0px 1px 3px 1px rgba(60, 64, 67, 0.15);\n",
              "      fill: #174EA6;\n",
              "    }\n",
              "\n",
              "    .colab-df-buttons div {\n",
              "      margin-bottom: 4px;\n",
              "    }\n",
              "\n",
              "    [theme=dark] .colab-df-convert {\n",
              "      background-color: #3B4455;\n",
              "      fill: #D2E3FC;\n",
              "    }\n",
              "\n",
              "    [theme=dark] .colab-df-convert:hover {\n",
              "      background-color: #434B5C;\n",
              "      box-shadow: 0px 1px 3px 1px rgba(0, 0, 0, 0.15);\n",
              "      filter: drop-shadow(0px 1px 2px rgba(0, 0, 0, 0.3));\n",
              "      fill: #FFFFFF;\n",
              "    }\n",
              "  </style>\n",
              "\n",
              "    <script>\n",
              "      const buttonEl =\n",
              "        document.querySelector('#df-042b6d33-0af4-4795-aae2-349d384a38b9 button.colab-df-convert');\n",
              "      buttonEl.style.display =\n",
              "        google.colab.kernel.accessAllowed ? 'block' : 'none';\n",
              "\n",
              "      async function convertToInteractive(key) {\n",
              "        const element = document.querySelector('#df-042b6d33-0af4-4795-aae2-349d384a38b9');\n",
              "        const dataTable =\n",
              "          await google.colab.kernel.invokeFunction('convertToInteractive',\n",
              "                                                    [key], {});\n",
              "        if (!dataTable) return;\n",
              "\n",
              "        const docLinkHtml = 'Like what you see? Visit the ' +\n",
              "          '<a target=\"_blank\" href=https://colab.research.google.com/notebooks/data_table.ipynb>data table notebook</a>'\n",
              "          + ' to learn more about interactive tables.';\n",
              "        element.innerHTML = '';\n",
              "        dataTable['output_type'] = 'display_data';\n",
              "        await google.colab.output.renderOutput(dataTable, element);\n",
              "        const docLink = document.createElement('div');\n",
              "        docLink.innerHTML = docLinkHtml;\n",
              "        element.appendChild(docLink);\n",
              "      }\n",
              "    </script>\n",
              "  </div>\n",
              "\n",
              "\n",
              "    <div id=\"df-6925b303-e998-42d6-91c7-e8adad47f775\">\n",
              "      <button class=\"colab-df-quickchart\" onclick=\"quickchart('df-6925b303-e998-42d6-91c7-e8adad47f775')\"\n",
              "                title=\"Suggest charts\"\n",
              "                style=\"display:none;\">\n",
              "\n",
              "<svg xmlns=\"http://www.w3.org/2000/svg\" height=\"24px\"viewBox=\"0 0 24 24\"\n",
              "     width=\"24px\">\n",
              "    <g>\n",
              "        <path d=\"M19 3H5c-1.1 0-2 .9-2 2v14c0 1.1.9 2 2 2h14c1.1 0 2-.9 2-2V5c0-1.1-.9-2-2-2zM9 17H7v-7h2v7zm4 0h-2V7h2v10zm4 0h-2v-4h2v4z\"/>\n",
              "    </g>\n",
              "</svg>\n",
              "      </button>\n",
              "\n",
              "<style>\n",
              "  .colab-df-quickchart {\n",
              "      --bg-color: #E8F0FE;\n",
              "      --fill-color: #1967D2;\n",
              "      --hover-bg-color: #E2EBFA;\n",
              "      --hover-fill-color: #174EA6;\n",
              "      --disabled-fill-color: #AAA;\n",
              "      --disabled-bg-color: #DDD;\n",
              "  }\n",
              "\n",
              "  [theme=dark] .colab-df-quickchart {\n",
              "      --bg-color: #3B4455;\n",
              "      --fill-color: #D2E3FC;\n",
              "      --hover-bg-color: #434B5C;\n",
              "      --hover-fill-color: #FFFFFF;\n",
              "      --disabled-bg-color: #3B4455;\n",
              "      --disabled-fill-color: #666;\n",
              "  }\n",
              "\n",
              "  .colab-df-quickchart {\n",
              "    background-color: var(--bg-color);\n",
              "    border: none;\n",
              "    border-radius: 50%;\n",
              "    cursor: pointer;\n",
              "    display: none;\n",
              "    fill: var(--fill-color);\n",
              "    height: 32px;\n",
              "    padding: 0;\n",
              "    width: 32px;\n",
              "  }\n",
              "\n",
              "  .colab-df-quickchart:hover {\n",
              "    background-color: var(--hover-bg-color);\n",
              "    box-shadow: 0 1px 2px rgba(60, 64, 67, 0.3), 0 1px 3px 1px rgba(60, 64, 67, 0.15);\n",
              "    fill: var(--button-hover-fill-color);\n",
              "  }\n",
              "\n",
              "  .colab-df-quickchart-complete:disabled,\n",
              "  .colab-df-quickchart-complete:disabled:hover {\n",
              "    background-color: var(--disabled-bg-color);\n",
              "    fill: var(--disabled-fill-color);\n",
              "    box-shadow: none;\n",
              "  }\n",
              "\n",
              "  .colab-df-spinner {\n",
              "    border: 2px solid var(--fill-color);\n",
              "    border-color: transparent;\n",
              "    border-bottom-color: var(--fill-color);\n",
              "    animation:\n",
              "      spin 1s steps(1) infinite;\n",
              "  }\n",
              "\n",
              "  @keyframes spin {\n",
              "    0% {\n",
              "      border-color: transparent;\n",
              "      border-bottom-color: var(--fill-color);\n",
              "      border-left-color: var(--fill-color);\n",
              "    }\n",
              "    20% {\n",
              "      border-color: transparent;\n",
              "      border-left-color: var(--fill-color);\n",
              "      border-top-color: var(--fill-color);\n",
              "    }\n",
              "    30% {\n",
              "      border-color: transparent;\n",
              "      border-left-color: var(--fill-color);\n",
              "      border-top-color: var(--fill-color);\n",
              "      border-right-color: var(--fill-color);\n",
              "    }\n",
              "    40% {\n",
              "      border-color: transparent;\n",
              "      border-right-color: var(--fill-color);\n",
              "      border-top-color: var(--fill-color);\n",
              "    }\n",
              "    60% {\n",
              "      border-color: transparent;\n",
              "      border-right-color: var(--fill-color);\n",
              "    }\n",
              "    80% {\n",
              "      border-color: transparent;\n",
              "      border-right-color: var(--fill-color);\n",
              "      border-bottom-color: var(--fill-color);\n",
              "    }\n",
              "    90% {\n",
              "      border-color: transparent;\n",
              "      border-bottom-color: var(--fill-color);\n",
              "    }\n",
              "  }\n",
              "</style>\n",
              "\n",
              "      <script>\n",
              "        async function quickchart(key) {\n",
              "          const quickchartButtonEl =\n",
              "            document.querySelector('#' + key + ' button');\n",
              "          quickchartButtonEl.disabled = true;  // To prevent multiple clicks.\n",
              "          quickchartButtonEl.classList.add('colab-df-spinner');\n",
              "          try {\n",
              "            const charts = await google.colab.kernel.invokeFunction(\n",
              "                'suggestCharts', [key], {});\n",
              "          } catch (error) {\n",
              "            console.error('Error during call to suggestCharts:', error);\n",
              "          }\n",
              "          quickchartButtonEl.classList.remove('colab-df-spinner');\n",
              "          quickchartButtonEl.classList.add('colab-df-quickchart-complete');\n",
              "        }\n",
              "        (() => {\n",
              "          let quickchartButtonEl =\n",
              "            document.querySelector('#df-6925b303-e998-42d6-91c7-e8adad47f775 button');\n",
              "          quickchartButtonEl.style.display =\n",
              "            google.colab.kernel.accessAllowed ? 'block' : 'none';\n",
              "        })();\n",
              "      </script>\n",
              "    </div>\n",
              "\n",
              "    </div>\n",
              "  </div>\n"
            ],
            "application/vnd.google.colaboratory.intrinsic+json": {
              "type": "dataframe",
              "variable_name": "df",
              "summary": "{\n  \"name\": \"df\",\n  \"rows\": 6513,\n  \"fields\": [\n    {\n      \"column\": \"en_query\",\n      \"properties\": {\n        \"dtype\": \"string\",\n        \"num_unique_values\": 6418,\n        \"samples\": [\n          \"what was my time\",\n          \"remind me to pick up contact lenses tomorrow\",\n          \"What are the holiday hours in the museum district in Houston\"\n        ],\n        \"semantic_type\": \"\",\n        \"description\": \"\"\n      }\n    },\n    {\n      \"column\": \"cs_query\",\n      \"properties\": {\n        \"dtype\": \"string\",\n        \"num_unique_values\": 6408,\n        \"samples\": [\n          \"Kya aaj raat below freezing hone wala he\",\n          \"Kya mere pass timer par 5 minutes bache he\",\n          \"aaj ke liye traffic report\"\n        ],\n        \"semantic_type\": \"\",\n        \"description\": \"\"\n      }\n    },\n    {\n      \"column\": \"en_parse\",\n      \"properties\": {\n        \"dtype\": \"string\",\n        \"num_unique_values\": 6418,\n        \"samples\": [\n          \"[IN:GET_TIMER what was my [SL:METHOD_TIMER time ] ]\",\n          \"[IN:CREATE_REMINDER remind [SL:PERSON_REMINDED me ] to [SL:TODO pick up contact lenses ] [SL:DATE_TIME tomorrow ] ]\",\n          \"[IN:UNSUPPORTED_EVENT What are the holiday hours in the museum district in Houston ]\"\n        ],\n        \"semantic_type\": \"\",\n        \"description\": \"\"\n      }\n    },\n    {\n      \"column\": \"cs_parse\",\n      \"properties\": {\n        \"dtype\": \"string\",\n        \"num_unique_values\": 6415,\n        \"samples\": [\n          \"[IN:UNSUPPORTED_ALARM Next appointment se [SL:DATE_TIME fifteen minutes ] pehle mera alarm set kare ]\",\n          \"[IN:GET_WEATHER kya [SL:WEATHER_ATTRIBUTE umbrella ] zaroori hai ]\",\n          \"[IN:GET_ESTIMATED_DURATION [SL:PATH SR 57 ] ka use karke [SL:DESTINATION [IN:GET_LOCATION_HOME [SL:CONTACT_RELATED meri ] [SL:TYPE_RELATION girlfriend ] [SL:CONTACT Heather ] ke ghar ] ] ke liye time nikale . ]\"\n        ],\n        \"semantic_type\": \"\",\n        \"description\": \"\"\n      }\n    },\n    {\n      \"column\": \"domain\",\n      \"properties\": {\n        \"dtype\": \"category\",\n        \"num_unique_values\": 8,\n        \"samples\": [\n          \"weather\",\n          \"messaging\",\n          \"timer\"\n        ],\n        \"semantic_type\": \"\",\n        \"description\": \"\"\n      }\n    }\n  ]\n}"
            }
          },
          "metadata": {},
          "execution_count": 5
        }
      ]
    },
    {
      "cell_type": "code",
      "source": [
        "data=df.iloc[:,1:2]"
      ],
      "metadata": {
        "id": "9779xVF5WRgi"
      },
      "execution_count": 6,
      "outputs": []
    },
    {
      "cell_type": "code",
      "source": [
        "word=data['cs_query'].tolist()\n"
      ],
      "metadata": {
        "collapsed": true,
        "id": "fWU2Nb8BW1iy"
      },
      "execution_count": 52,
      "outputs": []
    },
    {
      "cell_type": "code",
      "source": [
        "from tensorflow.keras.preprocessing.text import Tokenizer"
      ],
      "metadata": {
        "collapsed": true,
        "id": "yICXVvTgY5-R"
      },
      "execution_count": 8,
      "outputs": []
    },
    {
      "cell_type": "code",
      "source": [
        "tokenizer=Tokenizer()\n",
        "tokenizer.fit_on_texts(word)"
      ],
      "metadata": {
        "id": "u8W9KTN-Zj04"
      },
      "execution_count": 9,
      "outputs": []
    },
    {
      "cell_type": "code",
      "source": [
        "#tokenizer.word_index[]"
      ],
      "metadata": {
        "collapsed": true,
        "id": "bN09ZmcDZtgz"
      },
      "execution_count": 59,
      "outputs": []
    },
    {
      "cell_type": "code",
      "source": [
        "lenght_word=len(tokenizer.word_index)+1\n",
        "lenght_word"
      ],
      "metadata": {
        "colab": {
          "base_uri": "https://localhost:8080/"
        },
        "id": "LQS0dD_m8UBu",
        "outputId": "c7831105-179b-4660-e560-be518b8b7258"
      },
      "execution_count": 11,
      "outputs": [
        {
          "output_type": "execute_result",
          "data": {
            "text/plain": [
              "4787"
            ]
          },
          "metadata": {},
          "execution_count": 11
        }
      ]
    },
    {
      "cell_type": "code",
      "source": [
        "tonk_sen=(tokenizer.texts_to_sequences(word))"
      ],
      "metadata": {
        "id": "H1-lbVjMaQmR"
      },
      "execution_count": 12,
      "outputs": []
    },
    {
      "cell_type": "code",
      "source": [
        "input_list=[]"
      ],
      "metadata": {
        "id": "zNgSjAT9qPot"
      },
      "execution_count": 14,
      "outputs": []
    },
    {
      "cell_type": "code",
      "source": [
        "a=tonk_sen[0]\n",
        "a[:2]"
      ],
      "metadata": {
        "colab": {
          "base_uri": "https://localhost:8080/"
        },
        "id": "e-yJcD7oqA62",
        "outputId": "4c6e5bb1-8063-41b1-ef0e-d888ddfc1a7e"
      },
      "execution_count": 15,
      "outputs": [
        {
          "output_type": "execute_result",
          "data": {
            "text/plain": [
              "[9, 16]"
            ]
          },
          "metadata": {},
          "execution_count": 15
        }
      ]
    },
    {
      "cell_type": "code",
      "source": [
        "input_list = []\n",
        "for sentence in tonk_sen:\n",
        "    for j in range(1, len(sentence)):\n",
        "        input_list.append(sentence[:j+1])\n"
      ],
      "metadata": {
        "id": "E3Ib4vNvxI4T"
      },
      "execution_count": 16,
      "outputs": []
    },
    {
      "cell_type": "code",
      "source": [
        "input_list[1:50]"
      ],
      "metadata": {
        "colab": {
          "base_uri": "https://localhost:8080/"
        },
        "id": "Z1hJ154Yx0gA",
        "outputId": "bf9ea74c-505b-43c9-c003-78a6e1c0a0c5"
      },
      "execution_count": 56,
      "outputs": [
        {
          "output_type": "execute_result",
          "data": {
            "text/plain": [
              "[[9, 16, 2],\n",
              " [9, 16, 2, 685],\n",
              " [6, 751],\n",
              " [6, 751, 5],\n",
              " [6, 751, 5, 2229],\n",
              " [6, 751, 5, 2229, 105],\n",
              " [6, 751, 5, 2229, 105, 267],\n",
              " [6, 751, 5, 2229, 105, 267, 4],\n",
              " [9, 3],\n",
              " [9, 3, 22],\n",
              " [9, 3, 22, 10],\n",
              " [9, 3, 22, 10, 21],\n",
              " [9, 3, 22, 10, 21, 71],\n",
              " [9, 3, 22, 10, 21, 71, 422],\n",
              " [9, 3, 22, 10, 21, 71, 422, 139],\n",
              " [9, 3, 22, 10, 21, 71, 422, 139, 199],\n",
              " [9, 3, 22, 10, 21, 71, 422, 139, 199, 54],\n",
              " [9, 3, 22, 10, 21, 71, 422, 139, 199, 54, 61],\n",
              " [9, 3, 22, 10, 21, 71, 422, 139, 199, 54, 61, 72],\n",
              " [9, 3, 22, 10, 21, 71, 422, 139, 199, 54, 61, 72, 499],\n",
              " [20, 16],\n",
              " [20, 16, 2],\n",
              " [20, 16, 2, 1550],\n",
              " [2230, 2231],\n",
              " [2230, 2231, 15],\n",
              " [2230, 2231, 15, 994],\n",
              " [2230, 2231, 15, 994, 268],\n",
              " [2230, 2231, 15, 994, 268, 64],\n",
              " [2230, 2231, 15, 994, 268, 64, 283],\n",
              " [16, 2],\n",
              " [16, 2, 56],\n",
              " [16, 2, 56, 230],\n",
              " [16, 5],\n",
              " [16, 5, 32],\n",
              " [16, 5, 32, 45],\n",
              " [16, 5, 32, 45, 155],\n",
              " [16, 5, 32, 45, 155, 4],\n",
              " [539, 12],\n",
              " [539, 12, 1196],\n",
              " [539, 12, 1196, 2232],\n",
              " [539, 12, 1196, 2232, 6],\n",
              " [539, 12, 1196, 2232, 6, 4],\n",
              " [2233, 1],\n",
              " [2233, 1, 2234],\n",
              " [2233, 1, 2234, 258],\n",
              " [2233, 1, 2234, 258, 17],\n",
              " [2233, 1, 2234, 258, 17, 995],\n",
              " [2233, 1, 2234, 258, 17, 995, 13],\n",
              " [2233, 1, 2234, 258, 17, 995, 13, 865]]"
            ]
          },
          "metadata": {},
          "execution_count": 56
        }
      ]
    },
    {
      "cell_type": "code",
      "source": [
        "lengths = []\n",
        "\n",
        "for sublist in input_list:\n",
        "    if isinstance(sublist, list):\n",
        "        lengths.append(len(sublist))\n"
      ],
      "metadata": {
        "collapsed": true,
        "id": "LaW4rj1vzWSh"
      },
      "execution_count": 18,
      "outputs": []
    },
    {
      "cell_type": "code",
      "source": [
        "input_list2= []\n",
        "\n",
        "for sublist in input_list:\n",
        "    if isinstance(sublist, list):\n",
        "        input_list2.append((sublist))\n",
        "\n"
      ],
      "metadata": {
        "id": "rIQ6-qFc3cu5"
      },
      "execution_count": 19,
      "outputs": []
    },
    {
      "cell_type": "code",
      "source": [
        "input_list2[1:50]"
      ],
      "metadata": {
        "colab": {
          "base_uri": "https://localhost:8080/"
        },
        "id": "7gJo6dLS3txy",
        "outputId": "802e0127-e387-4441-b7f5-bf56c88daa46"
      },
      "execution_count": 57,
      "outputs": [
        {
          "output_type": "execute_result",
          "data": {
            "text/plain": [
              "[[9, 16, 2],\n",
              " [9, 16, 2, 685],\n",
              " [6, 751],\n",
              " [6, 751, 5],\n",
              " [6, 751, 5, 2229],\n",
              " [6, 751, 5, 2229, 105],\n",
              " [6, 751, 5, 2229, 105, 267],\n",
              " [6, 751, 5, 2229, 105, 267, 4],\n",
              " [9, 3],\n",
              " [9, 3, 22],\n",
              " [9, 3, 22, 10],\n",
              " [9, 3, 22, 10, 21],\n",
              " [9, 3, 22, 10, 21, 71],\n",
              " [9, 3, 22, 10, 21, 71, 422],\n",
              " [9, 3, 22, 10, 21, 71, 422, 139],\n",
              " [9, 3, 22, 10, 21, 71, 422, 139, 199],\n",
              " [9, 3, 22, 10, 21, 71, 422, 139, 199, 54],\n",
              " [9, 3, 22, 10, 21, 71, 422, 139, 199, 54, 61],\n",
              " [9, 3, 22, 10, 21, 71, 422, 139, 199, 54, 61, 72],\n",
              " [9, 3, 22, 10, 21, 71, 422, 139, 199, 54, 61, 72, 499],\n",
              " [20, 16],\n",
              " [20, 16, 2],\n",
              " [20, 16, 2, 1550],\n",
              " [2230, 2231],\n",
              " [2230, 2231, 15],\n",
              " [2230, 2231, 15, 994],\n",
              " [2230, 2231, 15, 994, 268],\n",
              " [2230, 2231, 15, 994, 268, 64],\n",
              " [2230, 2231, 15, 994, 268, 64, 283],\n",
              " [16, 2],\n",
              " [16, 2, 56],\n",
              " [16, 2, 56, 230],\n",
              " [16, 5],\n",
              " [16, 5, 32],\n",
              " [16, 5, 32, 45],\n",
              " [16, 5, 32, 45, 155],\n",
              " [16, 5, 32, 45, 155, 4],\n",
              " [539, 12],\n",
              " [539, 12, 1196],\n",
              " [539, 12, 1196, 2232],\n",
              " [539, 12, 1196, 2232, 6],\n",
              " [539, 12, 1196, 2232, 6, 4],\n",
              " [2233, 1],\n",
              " [2233, 1, 2234],\n",
              " [2233, 1, 2234, 258],\n",
              " [2233, 1, 2234, 258, 17],\n",
              " [2233, 1, 2234, 258, 17, 995],\n",
              " [2233, 1, 2234, 258, 17, 995, 13],\n",
              " [2233, 1, 2234, 258, 17, 995, 13, 865]]"
            ]
          },
          "metadata": {},
          "execution_count": 57
        }
      ]
    },
    {
      "cell_type": "code",
      "source": [
        "from tensorflow.keras.preprocessing.sequence import pad_sequences"
      ],
      "metadata": {
        "id": "Md5Ndj0R4F4K"
      },
      "execution_count": 21,
      "outputs": []
    },
    {
      "cell_type": "code",
      "source": [
        "pad_intput=pad_sequences(input_list2,maxlen=31,padding='pre')\n",
        "pad_intput"
      ],
      "metadata": {
        "colab": {
          "base_uri": "https://localhost:8080/"
        },
        "id": "7NbyqR7F4S3G",
        "outputId": "4bc6d928-bf11-451a-e6ad-f1f509bfae84"
      },
      "execution_count": 22,
      "outputs": [
        {
          "output_type": "execute_result",
          "data": {
            "text/plain": [
              "array([[  0,   0,   0, ...,   0,   9,  16],\n",
              "       [  0,   0,   0, ...,   9,  16,   2],\n",
              "       [  0,   0,   0, ...,  16,   2, 685],\n",
              "       ...,\n",
              "       [  0,   0,   0, ...,   3, 287, 342],\n",
              "       [  0,   0,   0, ..., 287, 342,  79],\n",
              "       [  0,   0,   0, ..., 342,  79,  19]], dtype=int32)"
            ]
          },
          "metadata": {},
          "execution_count": 22
        }
      ]
    },
    {
      "cell_type": "code",
      "source": [
        "X=pad_intput[:,:-1]\n",
        "Y=pad_intput[:,-1]"
      ],
      "metadata": {
        "id": "H7xwYhl44nAc"
      },
      "execution_count": 23,
      "outputs": []
    },
    {
      "cell_type": "code",
      "source": [],
      "metadata": {
        "id": "ee70bqgM49EL"
      },
      "execution_count": 23,
      "outputs": []
    },
    {
      "cell_type": "code",
      "source": [
        "Y.shape"
      ],
      "metadata": {
        "colab": {
          "base_uri": "https://localhost:8080/"
        },
        "id": "nzX8KW1V7dJK",
        "outputId": "cd2ecd52-6e6a-4c3a-bd1d-6f97f1f80b64"
      },
      "execution_count": 24,
      "outputs": [
        {
          "output_type": "execute_result",
          "data": {
            "text/plain": [
              "(50082,)"
            ]
          },
          "metadata": {},
          "execution_count": 24
        }
      ]
    },
    {
      "cell_type": "code",
      "source": [
        "#ONE HOT ENCODED Y"
      ],
      "metadata": {
        "id": "PXIiHuUB6aix"
      },
      "execution_count": 25,
      "outputs": []
    },
    {
      "cell_type": "code",
      "source": [
        "from tensorflow.keras.utils import to_categorical\n",
        "y=to_categorical(Y,num_classes=lenght_word)"
      ],
      "metadata": {
        "id": "YXlWW2Os7w-Q"
      },
      "execution_count": 26,
      "outputs": []
    },
    {
      "cell_type": "code",
      "source": [
        "y.shape"
      ],
      "metadata": {
        "colab": {
          "base_uri": "https://localhost:8080/"
        },
        "id": "6Vi3_4WE85-U",
        "outputId": "8b8effcd-dc0e-4bd1-8ded-11af27eba6c2"
      },
      "execution_count": 27,
      "outputs": [
        {
          "output_type": "execute_result",
          "data": {
            "text/plain": [
              "(50082, 4787)"
            ]
          },
          "metadata": {},
          "execution_count": 27
        }
      ]
    },
    {
      "cell_type": "code",
      "source": [
        "from tensorflow.keras.models import Sequential\n",
        "from tensorflow.keras.layers import Embedding,LSTM,Dense"
      ],
      "metadata": {
        "id": "84Hnfh5p-rIg"
      },
      "execution_count": 28,
      "outputs": []
    },
    {
      "cell_type": "code",
      "source": [
        "model=Sequential()\n",
        "model.add(Embedding(4787,1000,input_shape=(30,)))\n",
        "model.add(LSTM(256,return_sequences=True))\n",
        "model.add(LSTM(128))\n",
        "model.add(Dense(4787,activation='softmax'))"
      ],
      "metadata": {
        "colab": {
          "base_uri": "https://localhost:8080/"
        },
        "id": "L-7gExUq_IZN",
        "outputId": "7a6b9105-e8cb-4536-fdef-851cbfa6068b"
      },
      "execution_count": 29,
      "outputs": [
        {
          "output_type": "stream",
          "name": "stderr",
          "text": [
            "/usr/local/lib/python3.12/dist-packages/keras/src/layers/core/embedding.py:100: UserWarning: Do not pass an `input_shape`/`input_dim` argument to a layer. When using Sequential models, prefer using an `Input(shape)` object as the first layer in the model instead.\n",
            "  super().__init__(**kwargs)\n"
          ]
        }
      ]
    },
    {
      "cell_type": "code",
      "source": [],
      "metadata": {
        "id": "vJta8I20FPlD"
      },
      "execution_count": 29,
      "outputs": []
    },
    {
      "cell_type": "code",
      "source": [
        "lenght_word"
      ],
      "metadata": {
        "colab": {
          "base_uri": "https://localhost:8080/"
        },
        "id": "d7olfXPuDkYG",
        "outputId": "621e0edc-9b2b-4f19-8141-cbe17a8baf13"
      },
      "execution_count": 30,
      "outputs": [
        {
          "output_type": "execute_result",
          "data": {
            "text/plain": [
              "4787"
            ]
          },
          "metadata": {},
          "execution_count": 30
        }
      ]
    },
    {
      "cell_type": "code",
      "source": [
        "model.compile(loss='categorical_crossentropy',optimizer='adam',metrics=['accuracy'])"
      ],
      "metadata": {
        "id": "YEPpquPL_ncz"
      },
      "execution_count": 31,
      "outputs": []
    },
    {
      "cell_type": "code",
      "source": [],
      "metadata": {
        "id": "PkIH2UxEdCcE"
      },
      "execution_count": 31,
      "outputs": []
    },
    {
      "cell_type": "code",
      "source": [
        "model.summary()"
      ],
      "metadata": {
        "colab": {
          "base_uri": "https://localhost:8080/",
          "height": 272
        },
        "id": "60EzUxvxCTUu",
        "outputId": "6a1315db-f9ef-4719-8bb0-5b045a927c30"
      },
      "execution_count": 32,
      "outputs": [
        {
          "output_type": "display_data",
          "data": {
            "text/plain": [
              "\u001b[1mModel: \"sequential\"\u001b[0m\n"
            ],
            "text/html": [
              "<pre style=\"white-space:pre;overflow-x:auto;line-height:normal;font-family:Menlo,'DejaVu Sans Mono',consolas,'Courier New',monospace\"><span style=\"font-weight: bold\">Model: \"sequential\"</span>\n",
              "</pre>\n"
            ]
          },
          "metadata": {}
        },
        {
          "output_type": "display_data",
          "data": {
            "text/plain": [
              "┏━━━━━━━━━━━━━━━━━━━━━━━━━━━━━━━━━┳━━━━━━━━━━━━━━━━━━━━━━━━┳━━━━━━━━━━━━━━━┓\n",
              "┃\u001b[1m \u001b[0m\u001b[1mLayer (type)                   \u001b[0m\u001b[1m \u001b[0m┃\u001b[1m \u001b[0m\u001b[1mOutput Shape          \u001b[0m\u001b[1m \u001b[0m┃\u001b[1m \u001b[0m\u001b[1m      Param #\u001b[0m\u001b[1m \u001b[0m┃\n",
              "┡━━━━━━━━━━━━━━━━━━━━━━━━━━━━━━━━━╇━━━━━━━━━━━━━━━━━━━━━━━━╇━━━━━━━━━━━━━━━┩\n",
              "│ embedding (\u001b[38;5;33mEmbedding\u001b[0m)           │ (\u001b[38;5;45mNone\u001b[0m, \u001b[38;5;34m30\u001b[0m, \u001b[38;5;34m1000\u001b[0m)       │     \u001b[38;5;34m4,787,000\u001b[0m │\n",
              "├─────────────────────────────────┼────────────────────────┼───────────────┤\n",
              "│ lstm (\u001b[38;5;33mLSTM\u001b[0m)                     │ (\u001b[38;5;45mNone\u001b[0m, \u001b[38;5;34m30\u001b[0m, \u001b[38;5;34m256\u001b[0m)        │     \u001b[38;5;34m1,287,168\u001b[0m │\n",
              "├─────────────────────────────────┼────────────────────────┼───────────────┤\n",
              "│ lstm_1 (\u001b[38;5;33mLSTM\u001b[0m)                   │ (\u001b[38;5;45mNone\u001b[0m, \u001b[38;5;34m128\u001b[0m)            │       \u001b[38;5;34m197,120\u001b[0m │\n",
              "├─────────────────────────────────┼────────────────────────┼───────────────┤\n",
              "│ dense (\u001b[38;5;33mDense\u001b[0m)                   │ (\u001b[38;5;45mNone\u001b[0m, \u001b[38;5;34m4787\u001b[0m)           │       \u001b[38;5;34m617,523\u001b[0m │\n",
              "└─────────────────────────────────┴────────────────────────┴───────────────┘\n"
            ],
            "text/html": [
              "<pre style=\"white-space:pre;overflow-x:auto;line-height:normal;font-family:Menlo,'DejaVu Sans Mono',consolas,'Courier New',monospace\">┏━━━━━━━━━━━━━━━━━━━━━━━━━━━━━━━━━┳━━━━━━━━━━━━━━━━━━━━━━━━┳━━━━━━━━━━━━━━━┓\n",
              "┃<span style=\"font-weight: bold\"> Layer (type)                    </span>┃<span style=\"font-weight: bold\"> Output Shape           </span>┃<span style=\"font-weight: bold\">       Param # </span>┃\n",
              "┡━━━━━━━━━━━━━━━━━━━━━━━━━━━━━━━━━╇━━━━━━━━━━━━━━━━━━━━━━━━╇━━━━━━━━━━━━━━━┩\n",
              "│ embedding (<span style=\"color: #0087ff; text-decoration-color: #0087ff\">Embedding</span>)           │ (<span style=\"color: #00d7ff; text-decoration-color: #00d7ff\">None</span>, <span style=\"color: #00af00; text-decoration-color: #00af00\">30</span>, <span style=\"color: #00af00; text-decoration-color: #00af00\">1000</span>)       │     <span style=\"color: #00af00; text-decoration-color: #00af00\">4,787,000</span> │\n",
              "├─────────────────────────────────┼────────────────────────┼───────────────┤\n",
              "│ lstm (<span style=\"color: #0087ff; text-decoration-color: #0087ff\">LSTM</span>)                     │ (<span style=\"color: #00d7ff; text-decoration-color: #00d7ff\">None</span>, <span style=\"color: #00af00; text-decoration-color: #00af00\">30</span>, <span style=\"color: #00af00; text-decoration-color: #00af00\">256</span>)        │     <span style=\"color: #00af00; text-decoration-color: #00af00\">1,287,168</span> │\n",
              "├─────────────────────────────────┼────────────────────────┼───────────────┤\n",
              "│ lstm_1 (<span style=\"color: #0087ff; text-decoration-color: #0087ff\">LSTM</span>)                   │ (<span style=\"color: #00d7ff; text-decoration-color: #00d7ff\">None</span>, <span style=\"color: #00af00; text-decoration-color: #00af00\">128</span>)            │       <span style=\"color: #00af00; text-decoration-color: #00af00\">197,120</span> │\n",
              "├─────────────────────────────────┼────────────────────────┼───────────────┤\n",
              "│ dense (<span style=\"color: #0087ff; text-decoration-color: #0087ff\">Dense</span>)                   │ (<span style=\"color: #00d7ff; text-decoration-color: #00d7ff\">None</span>, <span style=\"color: #00af00; text-decoration-color: #00af00\">4787</span>)           │       <span style=\"color: #00af00; text-decoration-color: #00af00\">617,523</span> │\n",
              "└─────────────────────────────────┴────────────────────────┴───────────────┘\n",
              "</pre>\n"
            ]
          },
          "metadata": {}
        },
        {
          "output_type": "display_data",
          "data": {
            "text/plain": [
              "\u001b[1m Total params: \u001b[0m\u001b[38;5;34m6,888,811\u001b[0m (26.28 MB)\n"
            ],
            "text/html": [
              "<pre style=\"white-space:pre;overflow-x:auto;line-height:normal;font-family:Menlo,'DejaVu Sans Mono',consolas,'Courier New',monospace\"><span style=\"font-weight: bold\"> Total params: </span><span style=\"color: #00af00; text-decoration-color: #00af00\">6,888,811</span> (26.28 MB)\n",
              "</pre>\n"
            ]
          },
          "metadata": {}
        },
        {
          "output_type": "display_data",
          "data": {
            "text/plain": [
              "\u001b[1m Trainable params: \u001b[0m\u001b[38;5;34m6,888,811\u001b[0m (26.28 MB)\n"
            ],
            "text/html": [
              "<pre style=\"white-space:pre;overflow-x:auto;line-height:normal;font-family:Menlo,'DejaVu Sans Mono',consolas,'Courier New',monospace\"><span style=\"font-weight: bold\"> Trainable params: </span><span style=\"color: #00af00; text-decoration-color: #00af00\">6,888,811</span> (26.28 MB)\n",
              "</pre>\n"
            ]
          },
          "metadata": {}
        },
        {
          "output_type": "display_data",
          "data": {
            "text/plain": [
              "\u001b[1m Non-trainable params: \u001b[0m\u001b[38;5;34m0\u001b[0m (0.00 B)\n"
            ],
            "text/html": [
              "<pre style=\"white-space:pre;overflow-x:auto;line-height:normal;font-family:Menlo,'DejaVu Sans Mono',consolas,'Courier New',monospace\"><span style=\"font-weight: bold\"> Non-trainable params: </span><span style=\"color: #00af00; text-decoration-color: #00af00\">0</span> (0.00 B)\n",
              "</pre>\n"
            ]
          },
          "metadata": {}
        }
      ]
    },
    {
      "cell_type": "code",
      "source": [
        "model.fit(X,y,epochs=75)"
      ],
      "metadata": {
        "id": "XgpTYf_hZiAO",
        "colab": {
          "base_uri": "https://localhost:8080/"
        },
        "outputId": "12f6b7e7-8a19-4e08-a2ae-e695db95fef6",
        "collapsed": true
      },
      "execution_count": 34,
      "outputs": [
        {
          "output_type": "stream",
          "name": "stdout",
          "text": [
            "Epoch 1/75\n",
            "\u001b[1m1566/1566\u001b[0m \u001b[32m━━━━━━━━━━━━━━━━━━━━\u001b[0m\u001b[37m\u001b[0m \u001b[1m26s\u001b[0m 14ms/step - accuracy: 0.0776 - loss: 6.2352\n",
            "Epoch 2/75\n",
            "\u001b[1m1566/1566\u001b[0m \u001b[32m━━━━━━━━━━━━━━━━━━━━\u001b[0m\u001b[37m\u001b[0m \u001b[1m21s\u001b[0m 13ms/step - accuracy: 0.2099 - loss: 4.8408\n",
            "Epoch 3/75\n",
            "\u001b[1m1566/1566\u001b[0m \u001b[32m━━━━━━━━━━━━━━━━━━━━\u001b[0m\u001b[37m\u001b[0m \u001b[1m21s\u001b[0m 13ms/step - accuracy: 0.2769 - loss: 4.1770\n",
            "Epoch 4/75\n",
            "\u001b[1m1566/1566\u001b[0m \u001b[32m━━━━━━━━━━━━━━━━━━━━\u001b[0m\u001b[37m\u001b[0m \u001b[1m21s\u001b[0m 13ms/step - accuracy: 0.3170 - loss: 3.7689\n",
            "Epoch 5/75\n",
            "\u001b[1m1566/1566\u001b[0m \u001b[32m━━━━━━━━━━━━━━━━━━━━\u001b[0m\u001b[37m\u001b[0m \u001b[1m20s\u001b[0m 13ms/step - accuracy: 0.3423 - loss: 3.4394\n",
            "Epoch 6/75\n",
            "\u001b[1m1566/1566\u001b[0m \u001b[32m━━━━━━━━━━━━━━━━━━━━\u001b[0m\u001b[37m\u001b[0m \u001b[1m21s\u001b[0m 13ms/step - accuracy: 0.3626 - loss: 3.1818\n",
            "Epoch 7/75\n",
            "\u001b[1m1566/1566\u001b[0m \u001b[32m━━━━━━━━━━━━━━━━━━━━\u001b[0m\u001b[37m\u001b[0m \u001b[1m41s\u001b[0m 13ms/step - accuracy: 0.3833 - loss: 2.9509\n",
            "Epoch 8/75\n",
            "\u001b[1m1566/1566\u001b[0m \u001b[32m━━━━━━━━━━━━━━━━━━━━\u001b[0m\u001b[37m\u001b[0m \u001b[1m21s\u001b[0m 13ms/step - accuracy: 0.4045 - loss: 2.7496\n",
            "Epoch 9/75\n",
            "\u001b[1m1566/1566\u001b[0m \u001b[32m━━━━━━━━━━━━━━━━━━━━\u001b[0m\u001b[37m\u001b[0m \u001b[1m41s\u001b[0m 13ms/step - accuracy: 0.4255 - loss: 2.5617\n",
            "Epoch 10/75\n",
            "\u001b[1m1566/1566\u001b[0m \u001b[32m━━━━━━━━━━━━━━━━━━━━\u001b[0m\u001b[37m\u001b[0m \u001b[1m20s\u001b[0m 13ms/step - accuracy: 0.4507 - loss: 2.4098\n",
            "Epoch 11/75\n",
            "\u001b[1m1566/1566\u001b[0m \u001b[32m━━━━━━━━━━━━━━━━━━━━\u001b[0m\u001b[37m\u001b[0m \u001b[1m21s\u001b[0m 13ms/step - accuracy: 0.4814 - loss: 2.2453\n",
            "Epoch 12/75\n",
            "\u001b[1m1566/1566\u001b[0m \u001b[32m━━━━━━━━━━━━━━━━━━━━\u001b[0m\u001b[37m\u001b[0m \u001b[1m20s\u001b[0m 13ms/step - accuracy: 0.5005 - loss: 2.1354\n",
            "Epoch 13/75\n",
            "\u001b[1m1566/1566\u001b[0m \u001b[32m━━━━━━━━━━━━━━━━━━━━\u001b[0m\u001b[37m\u001b[0m \u001b[1m21s\u001b[0m 13ms/step - accuracy: 0.5259 - loss: 2.0115\n",
            "Epoch 14/75\n",
            "\u001b[1m1566/1566\u001b[0m \u001b[32m━━━━━━━━━━━━━━━━━━━━\u001b[0m\u001b[37m\u001b[0m \u001b[1m21s\u001b[0m 13ms/step - accuracy: 0.5462 - loss: 1.9037\n",
            "Epoch 15/75\n",
            "\u001b[1m1566/1566\u001b[0m \u001b[32m━━━━━━━━━━━━━━━━━━━━\u001b[0m\u001b[37m\u001b[0m \u001b[1m41s\u001b[0m 14ms/step - accuracy: 0.5704 - loss: 1.7945\n",
            "Epoch 16/75\n",
            "\u001b[1m1566/1566\u001b[0m \u001b[32m━━━━━━━━━━━━━━━━━━━━\u001b[0m\u001b[37m\u001b[0m \u001b[1m20s\u001b[0m 13ms/step - accuracy: 0.5860 - loss: 1.7095\n",
            "Epoch 17/75\n",
            "\u001b[1m1566/1566\u001b[0m \u001b[32m━━━━━━━━━━━━━━━━━━━━\u001b[0m\u001b[37m\u001b[0m \u001b[1m21s\u001b[0m 13ms/step - accuracy: 0.6056 - loss: 1.6416\n",
            "Epoch 18/75\n",
            "\u001b[1m1566/1566\u001b[0m \u001b[32m━━━━━━━━━━━━━━━━━━━━\u001b[0m\u001b[37m\u001b[0m \u001b[1m21s\u001b[0m 13ms/step - accuracy: 0.6214 - loss: 1.5560\n",
            "Epoch 19/75\n",
            "\u001b[1m1566/1566\u001b[0m \u001b[32m━━━━━━━━━━━━━━━━━━━━\u001b[0m\u001b[37m\u001b[0m \u001b[1m21s\u001b[0m 13ms/step - accuracy: 0.6333 - loss: 1.4955\n",
            "Epoch 20/75\n",
            "\u001b[1m1566/1566\u001b[0m \u001b[32m━━━━━━━━━━━━━━━━━━━━\u001b[0m\u001b[37m\u001b[0m \u001b[1m21s\u001b[0m 13ms/step - accuracy: 0.6562 - loss: 1.4071\n",
            "Epoch 21/75\n",
            "\u001b[1m1566/1566\u001b[0m \u001b[32m━━━━━━━━━━━━━━━━━━━━\u001b[0m\u001b[37m\u001b[0m \u001b[1m20s\u001b[0m 13ms/step - accuracy: 0.6692 - loss: 1.3615\n",
            "Epoch 22/75\n",
            "\u001b[1m1566/1566\u001b[0m \u001b[32m━━━━━━━━━━━━━━━━━━━━\u001b[0m\u001b[37m\u001b[0m \u001b[1m21s\u001b[0m 13ms/step - accuracy: 0.6817 - loss: 1.3063\n",
            "Epoch 23/75\n",
            "\u001b[1m1566/1566\u001b[0m \u001b[32m━━━━━━━━━━━━━━━━━━━━\u001b[0m\u001b[37m\u001b[0m \u001b[1m20s\u001b[0m 13ms/step - accuracy: 0.6953 - loss: 1.2481\n",
            "Epoch 24/75\n",
            "\u001b[1m1566/1566\u001b[0m \u001b[32m━━━━━━━━━━━━━━━━━━━━\u001b[0m\u001b[37m\u001b[0m \u001b[1m21s\u001b[0m 13ms/step - accuracy: 0.7054 - loss: 1.1897\n",
            "Epoch 25/75\n",
            "\u001b[1m1566/1566\u001b[0m \u001b[32m━━━━━━━━━━━━━━━━━━━━\u001b[0m\u001b[37m\u001b[0m \u001b[1m21s\u001b[0m 13ms/step - accuracy: 0.7199 - loss: 1.1468\n",
            "Epoch 26/75\n",
            "\u001b[1m1566/1566\u001b[0m \u001b[32m━━━━━━━━━━━━━━━━━━━━\u001b[0m\u001b[37m\u001b[0m \u001b[1m41s\u001b[0m 14ms/step - accuracy: 0.7238 - loss: 1.1152\n",
            "Epoch 27/75\n",
            "\u001b[1m1566/1566\u001b[0m \u001b[32m━━━━━━━━━━━━━━━━━━━━\u001b[0m\u001b[37m\u001b[0m \u001b[1m21s\u001b[0m 13ms/step - accuracy: 0.7337 - loss: 1.0756\n",
            "Epoch 28/75\n",
            "\u001b[1m1566/1566\u001b[0m \u001b[32m━━━━━━━━━━━━━━━━━━━━\u001b[0m\u001b[37m\u001b[0m \u001b[1m21s\u001b[0m 13ms/step - accuracy: 0.7442 - loss: 1.0374\n",
            "Epoch 29/75\n",
            "\u001b[1m1566/1566\u001b[0m \u001b[32m━━━━━━━━━━━━━━━━━━━━\u001b[0m\u001b[37m\u001b[0m \u001b[1m22s\u001b[0m 14ms/step - accuracy: 0.7499 - loss: 1.0125\n",
            "Epoch 30/75\n",
            "\u001b[1m1566/1566\u001b[0m \u001b[32m━━━━━━━━━━━━━━━━━━━━\u001b[0m\u001b[37m\u001b[0m \u001b[1m21s\u001b[0m 13ms/step - accuracy: 0.7572 - loss: 0.9757\n",
            "Epoch 31/75\n",
            "\u001b[1m1566/1566\u001b[0m \u001b[32m━━━━━━━━━━━━━━━━━━━━\u001b[0m\u001b[37m\u001b[0m \u001b[1m21s\u001b[0m 13ms/step - accuracy: 0.7590 - loss: 0.9597\n",
            "Epoch 32/75\n",
            "\u001b[1m1566/1566\u001b[0m \u001b[32m━━━━━━━━━━━━━━━━━━━━\u001b[0m\u001b[37m\u001b[0m \u001b[1m21s\u001b[0m 13ms/step - accuracy: 0.7659 - loss: 0.9367\n",
            "Epoch 33/75\n",
            "\u001b[1m1566/1566\u001b[0m \u001b[32m━━━━━━━━━━━━━━━━━━━━\u001b[0m\u001b[37m\u001b[0m \u001b[1m21s\u001b[0m 13ms/step - accuracy: 0.7703 - loss: 0.9023\n",
            "Epoch 34/75\n",
            "\u001b[1m1566/1566\u001b[0m \u001b[32m━━━━━━━━━━━━━━━━━━━━\u001b[0m\u001b[37m\u001b[0m \u001b[1m21s\u001b[0m 13ms/step - accuracy: 0.7722 - loss: 0.9027\n",
            "Epoch 35/75\n",
            "\u001b[1m1566/1566\u001b[0m \u001b[32m━━━━━━━━━━━━━━━━━━━━\u001b[0m\u001b[37m\u001b[0m \u001b[1m21s\u001b[0m 13ms/step - accuracy: 0.7783 - loss: 0.8706\n",
            "Epoch 36/75\n",
            "\u001b[1m1566/1566\u001b[0m \u001b[32m━━━━━━━━━━━━━━━━━━━━\u001b[0m\u001b[37m\u001b[0m \u001b[1m21s\u001b[0m 14ms/step - accuracy: 0.7847 - loss: 0.8458\n",
            "Epoch 37/75\n",
            "\u001b[1m1566/1566\u001b[0m \u001b[32m━━━━━━━━━━━━━━━━━━━━\u001b[0m\u001b[37m\u001b[0m \u001b[1m21s\u001b[0m 13ms/step - accuracy: 0.7834 - loss: 0.8426\n",
            "Epoch 38/75\n",
            "\u001b[1m1566/1566\u001b[0m \u001b[32m━━━━━━━━━━━━━━━━━━━━\u001b[0m\u001b[37m\u001b[0m \u001b[1m21s\u001b[0m 14ms/step - accuracy: 0.7919 - loss: 0.8191\n",
            "Epoch 39/75\n",
            "\u001b[1m1566/1566\u001b[0m \u001b[32m━━━━━━━━━━━━━━━━━━━━\u001b[0m\u001b[37m\u001b[0m \u001b[1m21s\u001b[0m 13ms/step - accuracy: 0.7946 - loss: 0.8014\n",
            "Epoch 40/75\n",
            "\u001b[1m1566/1566\u001b[0m \u001b[32m━━━━━━━━━━━━━━━━━━━━\u001b[0m\u001b[37m\u001b[0m \u001b[1m21s\u001b[0m 13ms/step - accuracy: 0.7898 - loss: 0.8053\n",
            "Epoch 41/75\n",
            "\u001b[1m1566/1566\u001b[0m \u001b[32m━━━━━━━━━━━━━━━━━━━━\u001b[0m\u001b[37m\u001b[0m \u001b[1m41s\u001b[0m 13ms/step - accuracy: 0.7973 - loss: 0.7809\n",
            "Epoch 42/75\n",
            "\u001b[1m1566/1566\u001b[0m \u001b[32m━━━━━━━━━━━━━━━━━━━━\u001b[0m\u001b[37m\u001b[0m \u001b[1m21s\u001b[0m 14ms/step - accuracy: 0.8008 - loss: 0.7705\n",
            "Epoch 43/75\n",
            "\u001b[1m1566/1566\u001b[0m \u001b[32m━━━━━━━━━━━━━━━━━━━━\u001b[0m\u001b[37m\u001b[0m \u001b[1m21s\u001b[0m 13ms/step - accuracy: 0.7983 - loss: 0.7642\n",
            "Epoch 44/75\n",
            "\u001b[1m1566/1566\u001b[0m \u001b[32m━━━━━━━━━━━━━━━━━━━━\u001b[0m\u001b[37m\u001b[0m \u001b[1m21s\u001b[0m 13ms/step - accuracy: 0.8032 - loss: 0.7528\n",
            "Epoch 45/75\n",
            "\u001b[1m1566/1566\u001b[0m \u001b[32m━━━━━━━━━━━━━━━━━━━━\u001b[0m\u001b[37m\u001b[0m \u001b[1m21s\u001b[0m 13ms/step - accuracy: 0.8074 - loss: 0.7372\n",
            "Epoch 46/75\n",
            "\u001b[1m1566/1566\u001b[0m \u001b[32m━━━━━━━━━━━━━━━━━━━━\u001b[0m\u001b[37m\u001b[0m \u001b[1m20s\u001b[0m 13ms/step - accuracy: 0.8059 - loss: 0.7355\n",
            "Epoch 47/75\n",
            "\u001b[1m1566/1566\u001b[0m \u001b[32m━━━━━━━━━━━━━━━━━━━━\u001b[0m\u001b[37m\u001b[0m \u001b[1m21s\u001b[0m 13ms/step - accuracy: 0.8092 - loss: 0.7196\n",
            "Epoch 48/75\n",
            "\u001b[1m1566/1566\u001b[0m \u001b[32m━━━━━━━━━━━━━━━━━━━━\u001b[0m\u001b[37m\u001b[0m \u001b[1m21s\u001b[0m 13ms/step - accuracy: 0.8102 - loss: 0.7212\n",
            "Epoch 49/75\n",
            "\u001b[1m1566/1566\u001b[0m \u001b[32m━━━━━━━━━━━━━━━━━━━━\u001b[0m\u001b[37m\u001b[0m \u001b[1m21s\u001b[0m 13ms/step - accuracy: 0.8085 - loss: 0.7127\n",
            "Epoch 50/75\n",
            "\u001b[1m1566/1566\u001b[0m \u001b[32m━━━━━━━━━━━━━━━━━━━━\u001b[0m\u001b[37m\u001b[0m \u001b[1m21s\u001b[0m 14ms/step - accuracy: 0.8121 - loss: 0.7041\n",
            "Epoch 51/75\n",
            "\u001b[1m1566/1566\u001b[0m \u001b[32m━━━━━━━━━━━━━━━━━━━━\u001b[0m\u001b[37m\u001b[0m \u001b[1m21s\u001b[0m 13ms/step - accuracy: 0.8204 - loss: 0.6736\n",
            "Epoch 52/75\n",
            "\u001b[1m1566/1566\u001b[0m \u001b[32m━━━━━━━━━━━━━━━━━━━━\u001b[0m\u001b[37m\u001b[0m \u001b[1m21s\u001b[0m 13ms/step - accuracy: 0.8123 - loss: 0.6988\n",
            "Epoch 53/75\n",
            "\u001b[1m1566/1566\u001b[0m \u001b[32m━━━━━━━━━━━━━━━━━━━━\u001b[0m\u001b[37m\u001b[0m \u001b[1m21s\u001b[0m 13ms/step - accuracy: 0.8173 - loss: 0.6820\n",
            "Epoch 54/75\n",
            "\u001b[1m1566/1566\u001b[0m \u001b[32m━━━━━━━━━━━━━━━━━━━━\u001b[0m\u001b[37m\u001b[0m \u001b[1m21s\u001b[0m 13ms/step - accuracy: 0.8155 - loss: 0.6810\n",
            "Epoch 55/75\n",
            "\u001b[1m1566/1566\u001b[0m \u001b[32m━━━━━━━━━━━━━━━━━━━━\u001b[0m\u001b[37m\u001b[0m \u001b[1m21s\u001b[0m 14ms/step - accuracy: 0.8171 - loss: 0.6828\n",
            "Epoch 56/75\n",
            "\u001b[1m1566/1566\u001b[0m \u001b[32m━━━━━━━━━━━━━━━━━━━━\u001b[0m\u001b[37m\u001b[0m \u001b[1m21s\u001b[0m 13ms/step - accuracy: 0.8192 - loss: 0.6662\n",
            "Epoch 57/75\n",
            "\u001b[1m1566/1566\u001b[0m \u001b[32m━━━━━━━━━━━━━━━━━━━━\u001b[0m\u001b[37m\u001b[0m \u001b[1m21s\u001b[0m 14ms/step - accuracy: 0.8134 - loss: 0.6772\n",
            "Epoch 58/75\n",
            "\u001b[1m1566/1566\u001b[0m \u001b[32m━━━━━━━━━━━━━━━━━━━━\u001b[0m\u001b[37m\u001b[0m \u001b[1m21s\u001b[0m 13ms/step - accuracy: 0.8183 - loss: 0.6641\n",
            "Epoch 59/75\n",
            "\u001b[1m1566/1566\u001b[0m \u001b[32m━━━━━━━━━━━━━━━━━━━━\u001b[0m\u001b[37m\u001b[0m \u001b[1m41s\u001b[0m 14ms/step - accuracy: 0.8181 - loss: 0.6633\n",
            "Epoch 60/75\n",
            "\u001b[1m1566/1566\u001b[0m \u001b[32m━━━━━━━━━━━━━━━━━━━━\u001b[0m\u001b[37m\u001b[0m \u001b[1m20s\u001b[0m 13ms/step - accuracy: 0.8188 - loss: 0.6566\n",
            "Epoch 61/75\n",
            "\u001b[1m1566/1566\u001b[0m \u001b[32m━━━━━━━━━━━━━━━━━━━━\u001b[0m\u001b[37m\u001b[0m \u001b[1m21s\u001b[0m 13ms/step - accuracy: 0.8200 - loss: 0.6541\n",
            "Epoch 62/75\n",
            "\u001b[1m1566/1566\u001b[0m \u001b[32m━━━━━━━━━━━━━━━━━━━━\u001b[0m\u001b[37m\u001b[0m \u001b[1m21s\u001b[0m 13ms/step - accuracy: 0.8205 - loss: 0.6567\n",
            "Epoch 63/75\n",
            "\u001b[1m1566/1566\u001b[0m \u001b[32m━━━━━━━━━━━━━━━━━━━━\u001b[0m\u001b[37m\u001b[0m \u001b[1m22s\u001b[0m 14ms/step - accuracy: 0.8224 - loss: 0.6463\n",
            "Epoch 64/75\n",
            "\u001b[1m1566/1566\u001b[0m \u001b[32m━━━━━━━━━━━━━━━━━━━━\u001b[0m\u001b[37m\u001b[0m \u001b[1m40s\u001b[0m 13ms/step - accuracy: 0.8184 - loss: 0.6514\n",
            "Epoch 65/75\n",
            "\u001b[1m1566/1566\u001b[0m \u001b[32m━━━━━━━━━━━━━━━━━━━━\u001b[0m\u001b[37m\u001b[0m \u001b[1m21s\u001b[0m 14ms/step - accuracy: 0.8211 - loss: 0.6471\n",
            "Epoch 66/75\n",
            "\u001b[1m1566/1566\u001b[0m \u001b[32m━━━━━━━━━━━━━━━━━━━━\u001b[0m\u001b[37m\u001b[0m \u001b[1m21s\u001b[0m 13ms/step - accuracy: 0.8210 - loss: 0.6444\n",
            "Epoch 67/75\n",
            "\u001b[1m1566/1566\u001b[0m \u001b[32m━━━━━━━━━━━━━━━━━━━━\u001b[0m\u001b[37m\u001b[0m \u001b[1m21s\u001b[0m 14ms/step - accuracy: 0.8188 - loss: 0.6467\n",
            "Epoch 68/75\n",
            "\u001b[1m1566/1566\u001b[0m \u001b[32m━━━━━━━━━━━━━━━━━━━━\u001b[0m\u001b[37m\u001b[0m \u001b[1m21s\u001b[0m 14ms/step - accuracy: 0.8262 - loss: 0.6216\n",
            "Epoch 69/75\n",
            "\u001b[1m1566/1566\u001b[0m \u001b[32m━━━━━━━━━━━━━━━━━━━━\u001b[0m\u001b[37m\u001b[0m \u001b[1m21s\u001b[0m 13ms/step - accuracy: 0.8243 - loss: 0.6321\n",
            "Epoch 70/75\n",
            "\u001b[1m1566/1566\u001b[0m \u001b[32m━━━━━━━━━━━━━━━━━━━━\u001b[0m\u001b[37m\u001b[0m \u001b[1m21s\u001b[0m 14ms/step - accuracy: 0.8229 - loss: 0.6370\n",
            "Epoch 71/75\n",
            "\u001b[1m1566/1566\u001b[0m \u001b[32m━━━━━━━━━━━━━━━━━━━━\u001b[0m\u001b[37m\u001b[0m \u001b[1m21s\u001b[0m 13ms/step - accuracy: 0.8216 - loss: 0.6411\n",
            "Epoch 72/75\n",
            "\u001b[1m1566/1566\u001b[0m \u001b[32m━━━━━━━━━━━━━━━━━━━━\u001b[0m\u001b[37m\u001b[0m \u001b[1m21s\u001b[0m 13ms/step - accuracy: 0.8250 - loss: 0.6262\n",
            "Epoch 73/75\n",
            "\u001b[1m1566/1566\u001b[0m \u001b[32m━━━━━━━━━━━━━━━━━━━━\u001b[0m\u001b[37m\u001b[0m \u001b[1m21s\u001b[0m 14ms/step - accuracy: 0.8217 - loss: 0.6356\n",
            "Epoch 74/75\n",
            "\u001b[1m1566/1566\u001b[0m \u001b[32m━━━━━━━━━━━━━━━━━━━━\u001b[0m\u001b[37m\u001b[0m \u001b[1m21s\u001b[0m 13ms/step - accuracy: 0.8205 - loss: 0.6388\n",
            "Epoch 75/75\n",
            "\u001b[1m1566/1566\u001b[0m \u001b[32m━━━━━━━━━━━━━━━━━━━━\u001b[0m\u001b[37m\u001b[0m \u001b[1m21s\u001b[0m 14ms/step - accuracy: 0.8245 - loss: 0.6269\n"
          ]
        },
        {
          "output_type": "execute_result",
          "data": {
            "text/plain": [
              "<keras.src.callbacks.history.History at 0x7ee0db7ad670>"
            ]
          },
          "metadata": {},
          "execution_count": 34
        }
      ]
    },
    {
      "cell_type": "code",
      "source": [
        "model.save('/content/my_model.keras')\n",
        "\n"
      ],
      "metadata": {
        "id": "vuFTc2OKKBsV"
      },
      "execution_count": 38,
      "outputs": []
    },
    {
      "cell_type": "code",
      "source": [
        "from google.colab import drive\n",
        "drive.mount('/content/drive')"
      ],
      "metadata": {
        "id": "gruOST24KBXI",
        "colab": {
          "base_uri": "https://localhost:8080/"
        },
        "outputId": "b0982089-ab4e-484c-aec8-803faaad6c7f"
      },
      "execution_count": 39,
      "outputs": [
        {
          "output_type": "stream",
          "name": "stdout",
          "text": [
            "Drive already mounted at /content/drive; to attempt to forcibly remount, call drive.mount(\"/content/drive\", force_remount=True).\n"
          ]
        }
      ]
    },
    {
      "cell_type": "code",
      "source": [
        "from tensorflow.keras.models import load_model\n",
        "m=load_model('/content/my_model.keras')"
      ],
      "metadata": {
        "id": "9_Ry5w_ZiqoX"
      },
      "execution_count": 41,
      "outputs": []
    },
    {
      "cell_type": "code",
      "source": [
        "text=\"tum\"\n",
        "#tokenize\n",
        "token_text=tokenizer.texts_to_sequences([text])[0]\n",
        "#padding\n",
        "pad_text=pad_sequences([token_text],maxlen=31,padding='pre')\n",
        "pad_text"
      ],
      "metadata": {
        "id": "iXio0BLejSmd",
        "colab": {
          "base_uri": "https://localhost:8080/"
        },
        "outputId": "4745e2fb-3f2c-4e5e-9081-d629814ca180"
      },
      "execution_count": 43,
      "outputs": [
        {
          "output_type": "execute_result",
          "data": {
            "text/plain": [
              "array([[  0,   0,   0,   0,   0,   0,   0,   0,   0,   0,   0,   0,   0,\n",
              "          0,   0,   0,   0,   0,   0,   0,   0,   0,   0,   0,   0,   0,\n",
              "          0,   0,   0,   0, 772]], dtype=int32)"
            ]
          },
          "metadata": {},
          "execution_count": 43
        }
      ]
    },
    {
      "cell_type": "code",
      "source": [
        "import numpy as np\n",
        "p=np.argmax(model.predict(pad_text))"
      ],
      "metadata": {
        "id": "1FIHqLH6knqC",
        "colab": {
          "base_uri": "https://localhost:8080/"
        },
        "outputId": "9faabd5a-00d8-4d95-916b-6687ce326fbf"
      },
      "execution_count": 44,
      "outputs": [
        {
          "output_type": "stream",
          "name": "stdout",
          "text": [
            "\u001b[1m1/1\u001b[0m \u001b[32m━━━━━━━━━━━━━━━━━━━━\u001b[0m\u001b[37m\u001b[0m \u001b[1m0s\u001b[0m 245ms/step\n"
          ]
        }
      ]
    },
    {
      "cell_type": "code",
      "source": [
        "for word,index in tokenizer.word_index.items():\n",
        "  if index==p:\n",
        "    print(word)"
      ],
      "metadata": {
        "id": "RVB5VayPlpup",
        "colab": {
          "base_uri": "https://localhost:8080/"
        },
        "outputId": "479abbe7-875c-47b1-e91d-fb460e349cfc"
      },
      "execution_count": 45,
      "outputs": [
        {
          "output_type": "stream",
          "name": "stdout",
          "text": [
            "is\n"
          ]
        }
      ]
    },
    {
      "cell_type": "code",
      "source": [
        "text=input(\"enter your line:\")\n",
        "for i in range(5):\n",
        "\n",
        "  #tokenize\n",
        "  token_text=tokenizer.texts_to_sequences([text])[0]\n",
        "#padding\n",
        "  pad_text=pad_sequences([token_text],maxlen=31,padding='pre')\n",
        "  p=np.argmax(model.predict(pad_text))\n",
        "  for word,index in tokenizer.word_index.items():\n",
        "    if index==p:\n",
        "      print(word)\n",
        "      text=word"
      ],
      "metadata": {
        "id": "5Myxnbo_nRXZ",
        "colab": {
          "base_uri": "https://localhost:8080/"
        },
        "outputId": "d447b775-9eb8-4ed5-eb41-838fc14c9825"
      },
      "execution_count": 51,
      "outputs": [
        {
          "output_type": "stream",
          "name": "stdout",
          "text": [
            "enter your line:abhi nhi\n",
            "\u001b[1m1/1\u001b[0m \u001b[32m━━━━━━━━━━━━━━━━━━━━\u001b[0m\u001b[37m\u001b[0m \u001b[1m0s\u001b[0m 32ms/step\n",
            "se\n",
            "\u001b[1m1/1\u001b[0m \u001b[32m━━━━━━━━━━━━━━━━━━━━\u001b[0m\u001b[37m\u001b[0m \u001b[1m0s\u001b[0m 33ms/step\n",
            "ek\n",
            "\u001b[1m1/1\u001b[0m \u001b[32m━━━━━━━━━━━━━━━━━━━━\u001b[0m\u001b[37m\u001b[0m \u001b[1m0s\u001b[0m 33ms/step\n",
            "ghante\n",
            "\u001b[1m1/1\u001b[0m \u001b[32m━━━━━━━━━━━━━━━━━━━━\u001b[0m\u001b[37m\u001b[0m \u001b[1m0s\u001b[0m 32ms/step\n",
            "ke\n",
            "\u001b[1m1/1\u001b[0m \u001b[32m━━━━━━━━━━━━━━━━━━━━\u001b[0m\u001b[37m\u001b[0m \u001b[1m0s\u001b[0m 30ms/step\n",
            "liye\n"
          ]
        }
      ]
    }
  ]
}